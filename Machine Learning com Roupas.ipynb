{
 "cells": [
  {
   "cell_type": "code",
   "execution_count": 1,
   "id": "61f7f81f",
   "metadata": {},
   "outputs": [],
   "source": [
    "import numpy as np # linear algebra\n",
    "import pandas as pd # data processing, CSV file I/O (e.g. pd.read_csv)\n",
    "import seaborn as sns\n",
    "import matplotlib.pyplot as plt\n",
    "\n",
    "# importar todos os pacotes necessários para usar os vários algoritmos de classificação\n",
    "from sklearn.linear_model import LogisticRegression  # for Logistic Regression algorithm\n",
    "from sklearn.model_selection import train_test_split #to split the dataset for training and testing\n",
    "from sklearn.neighbors import KNeighborsClassifier  # for K nearest neighbours\n",
    "from sklearn import svm  #for Support Vector Machine (SVM) Algorithm\n",
    "from sklearn import metrics #for checking the model accuracy\n",
    "from sklearn.tree import DecisionTreeClassifier #for using Decision Tree Algoithm\n",
    "from sklearn.feature_extraction.text import TfidfVectorizer\n",
    "from sklearn.metrics.pairwise import cosine_similarity"
   ]
  },
  {
   "cell_type": "code",
   "execution_count": 2,
   "id": "612e699a",
   "metadata": {},
   "outputs": [],
   "source": [
    "# pegando base de dados de um file no desktop chamado Coisas\n",
    "roupas = pd.read_csv(\"C:\\\\Users\\\\Otavia\\\\Desktop\\\\Dados\\\\roupas.csv\")"
   ]
  },
  {
   "cell_type": "code",
   "execution_count": 3,
   "id": "ee3e6aea",
   "metadata": {},
   "outputs": [
    {
     "data": {
      "text/html": [
       "<div>\n",
       "<style scoped>\n",
       "    .dataframe tbody tr th:only-of-type {\n",
       "        vertical-align: middle;\n",
       "    }\n",
       "\n",
       "    .dataframe tbody tr th {\n",
       "        vertical-align: top;\n",
       "    }\n",
       "\n",
       "    .dataframe thead th {\n",
       "        text-align: right;\n",
       "    }\n",
       "</style>\n",
       "<table border=\"1\" class=\"dataframe\">\n",
       "  <thead>\n",
       "    <tr style=\"text-align: right;\">\n",
       "      <th></th>\n",
       "      <th>title</th>\n",
       "      <th>title_orig</th>\n",
       "      <th>price</th>\n",
       "      <th>retail_price</th>\n",
       "      <th>currency_buyer</th>\n",
       "      <th>units_sold</th>\n",
       "      <th>uses_ad_boosts</th>\n",
       "      <th>rating</th>\n",
       "      <th>rating_count</th>\n",
       "      <th>rating_five_count</th>\n",
       "      <th>...</th>\n",
       "      <th>merchant_rating_count</th>\n",
       "      <th>merchant_rating</th>\n",
       "      <th>merchant_id</th>\n",
       "      <th>merchant_has_profile_picture</th>\n",
       "      <th>merchant_profile_picture</th>\n",
       "      <th>product_url</th>\n",
       "      <th>product_picture</th>\n",
       "      <th>product_id</th>\n",
       "      <th>theme</th>\n",
       "      <th>crawl_month</th>\n",
       "    </tr>\n",
       "  </thead>\n",
       "  <tbody>\n",
       "    <tr>\n",
       "      <th>0</th>\n",
       "      <td>2020 Summer Vintage Flamingo Print  Pajamas Se...</td>\n",
       "      <td>2020 Summer Vintage Flamingo Print  Pajamas Se...</td>\n",
       "      <td>16.0</td>\n",
       "      <td>14</td>\n",
       "      <td>EUR</td>\n",
       "      <td>100</td>\n",
       "      <td>0</td>\n",
       "      <td>3.76</td>\n",
       "      <td>54</td>\n",
       "      <td>26.0</td>\n",
       "      <td>...</td>\n",
       "      <td>568</td>\n",
       "      <td>4.128521</td>\n",
       "      <td>595097d6a26f6e070cb878d1</td>\n",
       "      <td>0</td>\n",
       "      <td>NaN</td>\n",
       "      <td>https://www.wish.com/c/5e9ae51d43d6a96e303acdb0</td>\n",
       "      <td>https://contestimg.wish.com/api/webimage/5e9ae...</td>\n",
       "      <td>5e9ae51d43d6a96e303acdb0</td>\n",
       "      <td>summer</td>\n",
       "      <td>2020-08</td>\n",
       "    </tr>\n",
       "    <tr>\n",
       "      <th>1</th>\n",
       "      <td>SSHOUSE Summer Casual Sleeveless Soirée Party ...</td>\n",
       "      <td>Women's Casual Summer Sleeveless Sexy Mini Dress</td>\n",
       "      <td>8.0</td>\n",
       "      <td>22</td>\n",
       "      <td>EUR</td>\n",
       "      <td>20000</td>\n",
       "      <td>1</td>\n",
       "      <td>3.45</td>\n",
       "      <td>6135</td>\n",
       "      <td>2269.0</td>\n",
       "      <td>...</td>\n",
       "      <td>17752</td>\n",
       "      <td>3.899673</td>\n",
       "      <td>56458aa03a698c35c9050988</td>\n",
       "      <td>0</td>\n",
       "      <td>NaN</td>\n",
       "      <td>https://www.wish.com/c/58940d436a0d3d5da4e95a38</td>\n",
       "      <td>https://contestimg.wish.com/api/webimage/58940...</td>\n",
       "      <td>58940d436a0d3d5da4e95a38</td>\n",
       "      <td>summer</td>\n",
       "      <td>2020-08</td>\n",
       "    </tr>\n",
       "    <tr>\n",
       "      <th>2</th>\n",
       "      <td>2020 Nouvelle Arrivée Femmes Printemps et Été ...</td>\n",
       "      <td>2020 New Arrival Women Spring and Summer Beach...</td>\n",
       "      <td>8.0</td>\n",
       "      <td>43</td>\n",
       "      <td>EUR</td>\n",
       "      <td>100</td>\n",
       "      <td>0</td>\n",
       "      <td>3.57</td>\n",
       "      <td>14</td>\n",
       "      <td>5.0</td>\n",
       "      <td>...</td>\n",
       "      <td>295</td>\n",
       "      <td>3.989831</td>\n",
       "      <td>5d464a1ffdf7bc44ee933c65</td>\n",
       "      <td>0</td>\n",
       "      <td>NaN</td>\n",
       "      <td>https://www.wish.com/c/5ea10e2c617580260d55310a</td>\n",
       "      <td>https://contestimg.wish.com/api/webimage/5ea10...</td>\n",
       "      <td>5ea10e2c617580260d55310a</td>\n",
       "      <td>summer</td>\n",
       "      <td>2020-08</td>\n",
       "    </tr>\n",
       "  </tbody>\n",
       "</table>\n",
       "<p>3 rows × 43 columns</p>\n",
       "</div>"
      ],
      "text/plain": [
       "                                               title  \\\n",
       "0  2020 Summer Vintage Flamingo Print  Pajamas Se...   \n",
       "1  SSHOUSE Summer Casual Sleeveless Soirée Party ...   \n",
       "2  2020 Nouvelle Arrivée Femmes Printemps et Été ...   \n",
       "\n",
       "                                          title_orig  price  retail_price  \\\n",
       "0  2020 Summer Vintage Flamingo Print  Pajamas Se...   16.0            14   \n",
       "1   Women's Casual Summer Sleeveless Sexy Mini Dress    8.0            22   \n",
       "2  2020 New Arrival Women Spring and Summer Beach...    8.0            43   \n",
       "\n",
       "  currency_buyer  units_sold  uses_ad_boosts  rating  rating_count  \\\n",
       "0            EUR         100               0    3.76            54   \n",
       "1            EUR       20000               1    3.45          6135   \n",
       "2            EUR         100               0    3.57            14   \n",
       "\n",
       "   rating_five_count  ...  merchant_rating_count  merchant_rating  \\\n",
       "0               26.0  ...                    568         4.128521   \n",
       "1             2269.0  ...                  17752         3.899673   \n",
       "2                5.0  ...                    295         3.989831   \n",
       "\n",
       "                merchant_id  merchant_has_profile_picture  \\\n",
       "0  595097d6a26f6e070cb878d1                             0   \n",
       "1  56458aa03a698c35c9050988                             0   \n",
       "2  5d464a1ffdf7bc44ee933c65                             0   \n",
       "\n",
       "   merchant_profile_picture                                      product_url  \\\n",
       "0                       NaN  https://www.wish.com/c/5e9ae51d43d6a96e303acdb0   \n",
       "1                       NaN  https://www.wish.com/c/58940d436a0d3d5da4e95a38   \n",
       "2                       NaN  https://www.wish.com/c/5ea10e2c617580260d55310a   \n",
       "\n",
       "                                     product_picture  \\\n",
       "0  https://contestimg.wish.com/api/webimage/5e9ae...   \n",
       "1  https://contestimg.wish.com/api/webimage/58940...   \n",
       "2  https://contestimg.wish.com/api/webimage/5ea10...   \n",
       "\n",
       "                 product_id   theme crawl_month  \n",
       "0  5e9ae51d43d6a96e303acdb0  summer     2020-08  \n",
       "1  58940d436a0d3d5da4e95a38  summer     2020-08  \n",
       "2  5ea10e2c617580260d55310a  summer     2020-08  \n",
       "\n",
       "[3 rows x 43 columns]"
      ]
     },
     "execution_count": 3,
     "metadata": {},
     "output_type": "execute_result"
    }
   ],
   "source": [
    "# mostrando os 3 primeiros itens da base de dados\n",
    "roupas.head(3)"
   ]
  },
  {
   "cell_type": "code",
   "execution_count": 4,
   "id": "92899879",
   "metadata": {},
   "outputs": [],
   "source": [
    "#Dropando todas as informações não importantes\n",
    "roupas.drop('currency_buyer',axis=1,inplace=True)\n",
    "roupas.drop('has_urgency_banner',axis=1,inplace=True)\n",
    "roupas.drop('urgency_text',axis=1,inplace=True)\n",
    "roupas.drop('crawl_month',axis=1,inplace=True)\n",
    "roupas.drop('merchant_name',axis=1,inplace=True)\n",
    "roupas.drop('merchant_title',axis=1,inplace=True)\n",
    "roupas.drop('merchant_has_profile_picture',axis=1,inplace=True)\n",
    "roupas.drop('merchant_profile_picture',axis=1,inplace=True)\n",
    "roupas.drop('merchant_rating_count',axis=1,inplace=True)\n",
    "roupas.drop('merchant_info_subtitle',axis=1,inplace=True)\n",
    "roupas.drop('merchant_id',axis=1,inplace=True)\n",
    "roupas.drop('uses_ad_boosts',axis=1,inplace=True)\n",
    "roupas.drop('badges_count',axis=1,inplace=True)\n",
    "roupas.drop('badge_local_product',axis=1,inplace=True)\n",
    "roupas.drop('badge_fast_shipping',axis=1,inplace=True)\n",
    "roupas.drop('badge_product_quality',axis=1,inplace=True)\n",
    "roupas.drop('shipping_is_express',axis=1,inplace=True)\n",
    "roupas.drop('shipping_option_name',axis=1,inplace=True)\n",
    "roupas.drop('shipping_option_price',axis=1,inplace=True)\n",
    "roupas.drop('inventory_total',axis=1,inplace=True)\n",
    "roupas.drop('product_url',axis=1,inplace=True)\n",
    "roupas.drop('product_picture',axis=1,inplace=True)\n",
    "roupas.drop('product_id',axis=1,inplace=True)\n",
    "roupas.drop('theme',axis=1,inplace=True)\n",
    "\n",
    "roupas = roupas.dropna(axis=0, how='any', thresh=None, subset=None, inplace=False) #remove itens(rows) com dados nulos"
   ]
  },
  {
   "cell_type": "code",
   "execution_count": 5,
   "id": "194fc602",
   "metadata": {},
   "outputs": [
    {
     "name": "stdout",
     "output_type": "stream",
     "text": [
      "<class 'pandas.core.frame.DataFrame'>\n",
      "Int64Index: 1461 entries, 0 to 1572\n",
      "Data columns (total 19 columns):\n",
      " #   Column                       Non-Null Count  Dtype  \n",
      "---  ------                       --------------  -----  \n",
      " 0   title                        1461 non-null   object \n",
      " 1   title_orig                   1461 non-null   object \n",
      " 2   price                        1461 non-null   float64\n",
      " 3   retail_price                 1461 non-null   int64  \n",
      " 4   units_sold                   1461 non-null   int64  \n",
      " 5   rating                       1461 non-null   float64\n",
      " 6   rating_count                 1461 non-null   int64  \n",
      " 7   rating_five_count            1461 non-null   float64\n",
      " 8   rating_four_count            1461 non-null   float64\n",
      " 9   rating_three_count           1461 non-null   float64\n",
      " 10  rating_two_count             1461 non-null   float64\n",
      " 11  rating_one_count             1461 non-null   float64\n",
      " 12  tags                         1461 non-null   object \n",
      " 13  product_color                1461 non-null   object \n",
      " 14  product_variation_size_id    1461 non-null   object \n",
      " 15  product_variation_inventory  1461 non-null   int64  \n",
      " 16  countries_shipped_to         1461 non-null   int64  \n",
      " 17  origin_country               1461 non-null   object \n",
      " 18  merchant_rating              1461 non-null   float64\n",
      "dtypes: float64(8), int64(5), object(6)\n",
      "memory usage: 228.3+ KB\n"
     ]
    }
   ],
   "source": [
    "# mostra todas as informaçoes das colunas da base de dados\n",
    "roupas.info()"
   ]
  },
  {
   "cell_type": "code",
   "execution_count": 6,
   "id": "5ccd12dc",
   "metadata": {},
   "outputs": [
    {
     "data": {
      "image/png": "[encoded data removed]",
      "text/plain": [
       "<Figure size 864x576 with 1 Axes>"
      ]
     },
     "metadata": {
      "needs_background": "light"
     },
     "output_type": "display_data"
    }
   ],
   "source": [
    "# Usando graficos\n",
    "\n",
    "fig = roupas[roupas.product_color=='black'].plot(kind='scatter',x='rating',y='price',color='black', label='Cor Preta')\n",
    "roupas[roupas.product_color=='green'].plot(kind='scatter',x='rating',y='price',color='lime', label='Cor Verde',ax=fig)\n",
    "roupas[roupas.product_color=='red'].plot(kind='scatter',x='rating',y='price',color='red', label='Cor Verde',ax=fig)\n",
    "fig.set_xlabel(\"Avaliação do Produto\")\n",
    "fig.set_ylabel(\"Preço\")\n",
    "fig.set_title(\"Avaliação do Produto VS Preço para cada cor\")\n",
    "fig=plt.gcf() # retorna a figura que está em construção\n",
    "fig.set_size_inches(12,8)\n",
    "plt.show()\n",
    "\n",
    "# O grafico acima apresenta uma tabela que mostra a relação que o preço e a avaliação dos compradores tem com a cor\n",
    "# do produto comprado"
   ]
  },
  {
   "cell_type": "code",
   "execution_count": 7,
   "id": "33a8a875",
   "metadata": {},
   "outputs": [
    {
     "data": {
      "image/png": "[encoded data removed]",
      "text/plain": [
       "<Figure size 1152x864 with 16 Axes>"
      ]
     },
     "metadata": {
      "needs_background": "light"
     },
     "output_type": "display_data"
    }
   ],
   "source": [
    "plt.close()\n",
    "roupas.hist(edgecolor='white', linewidth=1.2)\n",
    "fig=plt.gcf()\n",
    "fig.set_size_inches(16,12)\n",
    "plt.show()\n",
    "\n",
    "# grafico comparando a mudança dos valores em cada coluna da base de dados"
   ]
  },
  {
   "cell_type": "markdown",
   "id": "2b2db1cd",
   "metadata": {},
   "source": [
    "# Recomendação - Filtro Demográfico"
   ]
  },
  {
   "cell_type": "code",
   "execution_count": 8,
   "id": "217f041e",
   "metadata": {},
   "outputs": [
    {
     "data": {
      "text/html": [
       "<div>\n",
       "<style scoped>\n",
       "    .dataframe tbody tr th:only-of-type {\n",
       "        vertical-align: middle;\n",
       "    }\n",
       "\n",
       "    .dataframe tbody tr th {\n",
       "        vertical-align: top;\n",
       "    }\n",
       "\n",
       "    .dataframe thead th {\n",
       "        text-align: right;\n",
       "    }\n",
       "</style>\n",
       "<table border=\"1\" class=\"dataframe\">\n",
       "  <thead>\n",
       "    <tr style=\"text-align: right;\">\n",
       "      <th></th>\n",
       "      <th>title_orig</th>\n",
       "      <th>price</th>\n",
       "      <th>rating</th>\n",
       "      <th>nota</th>\n",
       "    </tr>\n",
       "  </thead>\n",
       "  <tbody>\n",
       "    <tr>\n",
       "      <th>84</th>\n",
       "      <td>2018 Summer Fashion Women Tank Tops Sexy Women...</td>\n",
       "      <td>7.00</td>\n",
       "      <td>4.41</td>\n",
       "      <td>4.370521</td>\n",
       "    </tr>\n",
       "    <tr>\n",
       "      <th>1497</th>\n",
       "      <td>Fashion Ocean Wave Silver &amp; Rose Gold Ring Sum...</td>\n",
       "      <td>3.66</td>\n",
       "      <td>4.48</td>\n",
       "      <td>4.364177</td>\n",
       "    </tr>\n",
       "    <tr>\n",
       "      <th>1152</th>\n",
       "      <td>FUERFITS Women's Casual Beach Summer Sleeveles...</td>\n",
       "      <td>8.00</td>\n",
       "      <td>4.39</td>\n",
       "      <td>4.279193</td>\n",
       "    </tr>\n",
       "    <tr>\n",
       "      <th>1020</th>\n",
       "      <td>Summer Steering Wheel Sunshade Swim Ring Car I...</td>\n",
       "      <td>19.00</td>\n",
       "      <td>4.40</td>\n",
       "      <td>4.254020</td>\n",
       "    </tr>\n",
       "    <tr>\n",
       "      <th>461</th>\n",
       "      <td>COMENII Summer Women Sexy Tops Button Deep V-N...</td>\n",
       "      <td>7.00</td>\n",
       "      <td>4.41</td>\n",
       "      <td>4.236885</td>\n",
       "    </tr>\n",
       "    <tr>\n",
       "      <th>1516</th>\n",
       "      <td>Women Plus Size Monokini Gothic Black Skull Be...</td>\n",
       "      <td>15.00</td>\n",
       "      <td>4.34</td>\n",
       "      <td>4.209671</td>\n",
       "    </tr>\n",
       "    <tr>\n",
       "      <th>528</th>\n",
       "      <td>Women&amp;#39;s Fashion Flannel Caroset Pleated El...</td>\n",
       "      <td>7.00</td>\n",
       "      <td>4.47</td>\n",
       "      <td>4.202137</td>\n",
       "    </tr>\n",
       "    <tr>\n",
       "      <th>708</th>\n",
       "      <td>Women's Shorts Spring Summer Leopard/Multicolo...</td>\n",
       "      <td>6.00</td>\n",
       "      <td>4.35</td>\n",
       "      <td>4.200452</td>\n",
       "    </tr>\n",
       "    <tr>\n",
       "      <th>1106</th>\n",
       "      <td>20Pairs/lot Summer Ultrathin Transparent Cryst...</td>\n",
       "      <td>2.00</td>\n",
       "      <td>4.36</td>\n",
       "      <td>4.195346</td>\n",
       "    </tr>\n",
       "    <tr>\n",
       "      <th>347</th>\n",
       "      <td>Summer Students Style Bodycon Rompers Womens ...</td>\n",
       "      <td>11.00</td>\n",
       "      <td>4.32</td>\n",
       "      <td>4.189182</td>\n",
       "    </tr>\n",
       "  </tbody>\n",
       "</table>\n",
       "</div>"
      ],
      "text/plain": [
       "                                             title_orig  price  rating  \\\n",
       "84    2018 Summer Fashion Women Tank Tops Sexy Women...   7.00    4.41   \n",
       "1497  Fashion Ocean Wave Silver & Rose Gold Ring Sum...   3.66    4.48   \n",
       "1152  FUERFITS Women's Casual Beach Summer Sleeveles...   8.00    4.39   \n",
       "1020  Summer Steering Wheel Sunshade Swim Ring Car I...  19.00    4.40   \n",
       "461   COMENII Summer Women Sexy Tops Button Deep V-N...   7.00    4.41   \n",
       "1516  Women Plus Size Monokini Gothic Black Skull Be...  15.00    4.34   \n",
       "528   Women&#39;s Fashion Flannel Caroset Pleated El...   7.00    4.47   \n",
       "708   Women's Shorts Spring Summer Leopard/Multicolo...   6.00    4.35   \n",
       "1106  20Pairs/lot Summer Ultrathin Transparent Cryst...   2.00    4.36   \n",
       "347    Summer Students Style Bodycon Rompers Womens ...  11.00    4.32   \n",
       "\n",
       "          nota  \n",
       "84    4.370521  \n",
       "1497  4.364177  \n",
       "1152  4.279193  \n",
       "1020  4.254020  \n",
       "461   4.236885  \n",
       "1516  4.209671  \n",
       "528   4.202137  \n",
       "708   4.200452  \n",
       "1106  4.195346  \n",
       "347   4.189182  "
      ]
     },
     "execution_count": 8,
     "metadata": {},
     "output_type": "execute_result"
    }
   ],
   "source": [
    "# media das notas dada as roupas\n",
    "C = roupas['rating'].mean()\n",
    "C\n",
    "\n",
    "# numero de notas dada as roupas no geral \n",
    "# (a função quantile dita que para a roupa ser classificada, ela precisa ter mais notas dadas que 80% da media)\n",
    "m = roupas['rating_count'].quantile(0.8)\n",
    "m\n",
    "\n",
    "def weighted_rating(x, m=m, C=C):\n",
    "    v = x['rating_count']\n",
    "    R = x['rating']\n",
    "    # Calculo baseado na formula da IMDB\n",
    "    return (v/(v+m) * R) + (m/(m+v) * C)\n",
    "\n",
    "roupas['nota'] = roupas.apply(weighted_rating, axis=1)\n",
    "\n",
    "#Organizando lista baseada na nota das roupas\n",
    "roupas = roupas.sort_values('nota', ascending=False)\n",
    "\n",
    "#Top 10 roupas\n",
    "roupas[['title_orig', 'price', 'rating', 'nota']].head(10)"
   ]
  },
  {
   "cell_type": "code",
   "execution_count": 9,
   "id": "da4daa82",
   "metadata": {},
   "outputs": [
    {
     "data": {
      "text/html": [
       "<div>\n",
       "<style scoped>\n",
       "    .dataframe tbody tr th:only-of-type {\n",
       "        vertical-align: middle;\n",
       "    }\n",
       "\n",
       "    .dataframe tbody tr th {\n",
       "        vertical-align: top;\n",
       "    }\n",
       "\n",
       "    .dataframe thead th {\n",
       "        text-align: right;\n",
       "    }\n",
       "</style>\n",
       "<table border=\"1\" class=\"dataframe\">\n",
       "  <thead>\n",
       "    <tr style=\"text-align: right;\">\n",
       "      <th></th>\n",
       "      <th>title_orig</th>\n",
       "      <th>price</th>\n",
       "      <th>rating</th>\n",
       "      <th>nota</th>\n",
       "    </tr>\n",
       "  </thead>\n",
       "  <tbody>\n",
       "    <tr>\n",
       "      <th>52</th>\n",
       "      <td>Womens Fashion 3D Skull Print Cut Out Back Tan...</td>\n",
       "      <td>1.00</td>\n",
       "      <td>3.80</td>\n",
       "      <td>3.779983</td>\n",
       "    </tr>\n",
       "    <tr>\n",
       "      <th>1443</th>\n",
       "      <td>New Fashion Summer Women Casual Dress Round Ne...</td>\n",
       "      <td>1.00</td>\n",
       "      <td>3.75</td>\n",
       "      <td>3.779795</td>\n",
       "    </tr>\n",
       "    <tr>\n",
       "      <th>1368</th>\n",
       "      <td>Plus Size XS-3XL Women Summer Indoor Sports Pa...</td>\n",
       "      <td>1.00</td>\n",
       "      <td>3.17</td>\n",
       "      <td>3.776775</td>\n",
       "    </tr>\n",
       "    <tr>\n",
       "      <th>442</th>\n",
       "      <td>New Fashion Summer Women Casual Dress Round Ne...</td>\n",
       "      <td>1.65</td>\n",
       "      <td>3.67</td>\n",
       "      <td>3.764429</td>\n",
       "    </tr>\n",
       "    <tr>\n",
       "      <th>454</th>\n",
       "      <td>New Fashion Summer Women Casual Dress Round Ne...</td>\n",
       "      <td>1.65</td>\n",
       "      <td>3.67</td>\n",
       "      <td>3.764429</td>\n",
       "    </tr>\n",
       "    <tr>\n",
       "      <th>1322</th>\n",
       "      <td>Summer New  Plus Size Tank Top for Women Spagh...</td>\n",
       "      <td>1.66</td>\n",
       "      <td>3.75</td>\n",
       "      <td>3.779393</td>\n",
       "    </tr>\n",
       "    <tr>\n",
       "      <th>1435</th>\n",
       "      <td>Women's Fashion Summer Clothes Cotton V-neck S...</td>\n",
       "      <td>1.67</td>\n",
       "      <td>3.59</td>\n",
       "      <td>3.774825</td>\n",
       "    </tr>\n",
       "    <tr>\n",
       "      <th>403</th>\n",
       "      <td>Women Summer New Flip Flops Sandals Beach Shoe...</td>\n",
       "      <td>1.68</td>\n",
       "      <td>3.95</td>\n",
       "      <td>3.808732</td>\n",
       "    </tr>\n",
       "    <tr>\n",
       "      <th>153</th>\n",
       "      <td>New Fashion Summer Women Casual Dress Round Ne...</td>\n",
       "      <td>1.68</td>\n",
       "      <td>3.67</td>\n",
       "      <td>3.778778</td>\n",
       "    </tr>\n",
       "    <tr>\n",
       "      <th>1401</th>\n",
       "      <td>New Fashion Summer Women Casual Dress Round Ne...</td>\n",
       "      <td>1.68</td>\n",
       "      <td>3.67</td>\n",
       "      <td>3.778778</td>\n",
       "    </tr>\n",
       "  </tbody>\n",
       "</table>\n",
       "</div>"
      ],
      "text/plain": [
       "                                             title_orig  price  rating  \\\n",
       "52    Womens Fashion 3D Skull Print Cut Out Back Tan...   1.00    3.80   \n",
       "1443  New Fashion Summer Women Casual Dress Round Ne...   1.00    3.75   \n",
       "1368  Plus Size XS-3XL Women Summer Indoor Sports Pa...   1.00    3.17   \n",
       "442   New Fashion Summer Women Casual Dress Round Ne...   1.65    3.67   \n",
       "454   New Fashion Summer Women Casual Dress Round Ne...   1.65    3.67   \n",
       "1322  Summer New  Plus Size Tank Top for Women Spagh...   1.66    3.75   \n",
       "1435  Women's Fashion Summer Clothes Cotton V-neck S...   1.67    3.59   \n",
       "403   Women Summer New Flip Flops Sandals Beach Shoe...   1.68    3.95   \n",
       "153   New Fashion Summer Women Casual Dress Round Ne...   1.68    3.67   \n",
       "1401  New Fashion Summer Women Casual Dress Round Ne...   1.68    3.67   \n",
       "\n",
       "          nota  \n",
       "52    3.779983  \n",
       "1443  3.779795  \n",
       "1368  3.776775  \n",
       "442   3.764429  \n",
       "454   3.764429  \n",
       "1322  3.779393  \n",
       "1435  3.774825  \n",
       "403   3.808732  \n",
       "153   3.778778  \n",
       "1401  3.778778  "
      ]
     },
     "execution_count": 9,
     "metadata": {},
     "output_type": "execute_result"
    }
   ],
   "source": [
    "# A lista tambem pode ser definida com outros paramentros, como o menor preço da roupa\n",
    "roupas = roupas.sort_values('price', ascending=True)\n",
    "\n",
    "#Top 10 roupas\n",
    "roupas[['title_orig', 'price', 'rating', 'nota']].head(10)"
   ]
  },
  {
   "cell_type": "code",
   "execution_count": 10,
   "id": "adca9ac8",
   "metadata": {},
   "outputs": [
    {
     "data": {
      "text/html": [
       "<div>\n",
       "<style scoped>\n",
       "    .dataframe tbody tr th:only-of-type {\n",
       "        vertical-align: middle;\n",
       "    }\n",
       "\n",
       "    .dataframe tbody tr th {\n",
       "        vertical-align: top;\n",
       "    }\n",
       "\n",
       "    .dataframe thead th {\n",
       "        text-align: right;\n",
       "    }\n",
       "</style>\n",
       "<table border=\"1\" class=\"dataframe\">\n",
       "  <thead>\n",
       "    <tr style=\"text-align: right;\">\n",
       "      <th></th>\n",
       "      <th>title_orig</th>\n",
       "      <th>price</th>\n",
       "      <th>rating</th>\n",
       "      <th>nota</th>\n",
       "    </tr>\n",
       "  </thead>\n",
       "  <tbody>\n",
       "    <tr>\n",
       "      <th>312</th>\n",
       "      <td>Summer New Europe and The United States Sexy R...</td>\n",
       "      <td>8.00</td>\n",
       "      <td>5.0</td>\n",
       "      <td>3.793351</td>\n",
       "    </tr>\n",
       "    <tr>\n",
       "      <th>1403</th>\n",
       "      <td>Summer New Women Casual Sleeveless  Jumpsuits ...</td>\n",
       "      <td>6.00</td>\n",
       "      <td>5.0</td>\n",
       "      <td>3.781987</td>\n",
       "    </tr>\n",
       "    <tr>\n",
       "      <th>1433</th>\n",
       "      <td>Short Sleeve Beach Dress Women Summer Print V ...</td>\n",
       "      <td>8.00</td>\n",
       "      <td>5.0</td>\n",
       "      <td>3.781987</td>\n",
       "    </tr>\n",
       "    <tr>\n",
       "      <th>212</th>\n",
       "      <td>Short Sleeve Beach Dress Women Summer Print V ...</td>\n",
       "      <td>8.00</td>\n",
       "      <td>5.0</td>\n",
       "      <td>3.781987</td>\n",
       "    </tr>\n",
       "    <tr>\n",
       "      <th>801</th>\n",
       "      <td>M-XXL Size Summer New Ladies Butterfly Printin...</td>\n",
       "      <td>8.00</td>\n",
       "      <td>5.0</td>\n",
       "      <td>3.780943</td>\n",
       "    </tr>\n",
       "    <tr>\n",
       "      <th>846</th>\n",
       "      <td>Summer New Europe and The United States Sexy R...</td>\n",
       "      <td>8.00</td>\n",
       "      <td>5.0</td>\n",
       "      <td>3.793351</td>\n",
       "    </tr>\n",
       "    <tr>\n",
       "      <th>370</th>\n",
       "      <td>2020 New Upgrade 170/150/100/30CM Inflatable S...</td>\n",
       "      <td>11.00</td>\n",
       "      <td>5.0</td>\n",
       "      <td>3.783028</td>\n",
       "    </tr>\n",
       "    <tr>\n",
       "      <th>1172</th>\n",
       "      <td>New Women Fashion Shorts Yoga Shorts Summer Be...</td>\n",
       "      <td>11.00</td>\n",
       "      <td>5.0</td>\n",
       "      <td>3.780943</td>\n",
       "    </tr>\n",
       "    <tr>\n",
       "      <th>1434</th>\n",
       "      <td>Summer Casual Front Knot Cotton Sleeveless Irr...</td>\n",
       "      <td>2.69</td>\n",
       "      <td>5.0</td>\n",
       "      <td>3.780943</td>\n",
       "    </tr>\n",
       "    <tr>\n",
       "      <th>991</th>\n",
       "      <td>2020 Summer Men's Classic Shorts Multi-pocket ...</td>\n",
       "      <td>7.00</td>\n",
       "      <td>5.0</td>\n",
       "      <td>3.781987</td>\n",
       "    </tr>\n",
       "  </tbody>\n",
       "</table>\n",
       "</div>"
      ],
      "text/plain": [
       "                                             title_orig  price  rating  \\\n",
       "312   Summer New Europe and The United States Sexy R...   8.00     5.0   \n",
       "1403  Summer New Women Casual Sleeveless  Jumpsuits ...   6.00     5.0   \n",
       "1433  Short Sleeve Beach Dress Women Summer Print V ...   8.00     5.0   \n",
       "212   Short Sleeve Beach Dress Women Summer Print V ...   8.00     5.0   \n",
       "801   M-XXL Size Summer New Ladies Butterfly Printin...   8.00     5.0   \n",
       "846   Summer New Europe and The United States Sexy R...   8.00     5.0   \n",
       "370   2020 New Upgrade 170/150/100/30CM Inflatable S...  11.00     5.0   \n",
       "1172  New Women Fashion Shorts Yoga Shorts Summer Be...  11.00     5.0   \n",
       "1434  Summer Casual Front Knot Cotton Sleeveless Irr...   2.69     5.0   \n",
       "991   2020 Summer Men's Classic Shorts Multi-pocket ...   7.00     5.0   \n",
       "\n",
       "          nota  \n",
       "312   3.793351  \n",
       "1403  3.781987  \n",
       "1433  3.781987  \n",
       "212   3.781987  \n",
       "801   3.780943  \n",
       "846   3.793351  \n",
       "370   3.783028  \n",
       "1172  3.780943  \n",
       "1434  3.780943  \n",
       "991   3.781987  "
      ]
     },
     "execution_count": 10,
     "metadata": {},
     "output_type": "execute_result"
    }
   ],
   "source": [
    "# Ou como a maior media de notas\n",
    "\n",
    "roupas = roupas.sort_values('rating', ascending=False)\n",
    "\n",
    "#Top 10 roupas\n",
    "roupas[['title_orig', 'price', 'rating', 'nota']].head(10)"
   ]
  },
  {
   "cell_type": "markdown",
   "id": "0365358e",
   "metadata": {},
   "source": [
    "# Recomendação -  Filtragem baseada em conteudo"
   ]
  },
  {
   "cell_type": "code",
   "execution_count": 11,
   "id": "6e79f39f",
   "metadata": {},
   "outputs": [
    {
     "data": {
      "text/plain": [
       "(1461, 1184)"
      ]
     },
     "execution_count": 11,
     "metadata": {},
     "output_type": "execute_result"
    }
   ],
   "source": [
    "tfidf = TfidfVectorizer(stop_words='english')\n",
    "\n",
    "roupas['title_orig'] = roupas['title_orig'].fillna('')\n",
    "\n",
    "tfidf_matrix = tfidf.fit_transform(roupas['title_orig'])\n",
    "\n",
    "tfidf_matrix.shape\n",
    "# esse codigo pega as palavras em ingles do tiulo das roupas, retira palavras comuns tipo \"to\" e \"a\", e as transforma em dados \n",
    "# para serem comparados"
   ]
  },
  {
   "cell_type": "code",
   "execution_count": 12,
   "id": "c46508fd",
   "metadata": {},
   "outputs": [
    {
     "data": {
      "text/plain": [
       "title_orig\n",
       "Summer New Europe and The United States Sexy Round Neck Pocket Stripes Printed Hip Dress Women                      312\n",
       "Summer New Women Casual Sleeveless  Jumpsuits  Solid Color Suspender Ttrousers Loose Overalls Plus Size            1403\n",
       "Short Sleeve Beach Dress Women Summer Print V Neck Dress Loose Casual Pullover Midi Dress                          1433\n",
       "Short Sleeve Beach Dress Women Summer Print V Neck Dress Loose Casual Pullover Midi Dress                           212\n",
       "M-XXL Size Summer New Ladies Butterfly Printing Bohemian Beach Skirt v-Neck Sleeveless Casual Temperament Dress     801\n",
       "dtype: int64"
      ]
     },
     "execution_count": 12,
     "metadata": {},
     "output_type": "execute_result"
    }
   ],
   "source": [
    "cosine_sim = cosine_similarity(tfidf_matrix, tfidf_matrix)\n",
    "\n",
    "indices = pd.Series(roupas.index, index=roupas['title_orig']).drop_duplicates()\n",
    "indices.head()"
   ]
  },
  {
   "cell_type": "code",
   "execution_count": 13,
   "id": "91dca111",
   "metadata": {},
   "outputs": [],
   "source": [
    "# Obtenha o índice da roupa que corresponde ao título\n",
    "idx = indices['Top Swimsuit Sets Fashion Swimwear Women Bikini 2016 Sexy Padded']\n",
    "idx\n",
    "\n",
    "# Obtenha as pontuações de semelhança entre pares de todas as roupas com aquela roupa\n",
    "sim_scores = list(enumerate(cosine_sim[idx]))\n",
    "#type(sim_scores)\n",
    "#print(sim_scores)\n",
    "\n",
    "# Classifique as roupas com base nas pontuações de similaridade\n",
    "sim_scores = sorted(sim_scores, key=lambda x: x[1], reverse=True)\n",
    "#print(sim_scores)"
   ]
  },
  {
   "cell_type": "code",
   "execution_count": 14,
   "id": "a2801b6e",
   "metadata": {},
   "outputs": [
    {
     "data": {
      "text/plain": [
       "[(20, 1.0000000000000002),\n",
       " (442, 0.9165726554839693),\n",
       " (857, 0.9133850822341405),\n",
       " (858, 0.9133850822341405),\n",
       " (1031, 0.5597713116616388),\n",
       " (1268, 0.5056716486824144),\n",
       " (1269, 0.5056716486824144),\n",
       " (731, 0.4955430277705881),\n",
       " (1434, 0.4692064279309649),\n",
       " (630, 0.43866329029289214)]"
      ]
     },
     "execution_count": 14,
     "metadata": {},
     "output_type": "execute_result"
    }
   ],
   "source": [
    "# Obtenha as pontuações das 10 roupas mais semelhantes\n",
    "sim_scores = sim_scores[1:11]\n",
    "sim_scores"
   ]
  },
  {
   "cell_type": "code",
   "execution_count": 15,
   "id": "b5be1176",
   "metadata": {},
   "outputs": [
    {
     "data": {
      "text/plain": [
       "[20, 442, 857, 858, 1031, 1268, 1269, 731, 1434, 630]"
      ]
     },
     "execution_count": 15,
     "metadata": {},
     "output_type": "execute_result"
    }
   ],
   "source": [
    "# Obtenha os índices de roupas\n",
    "movie_indices = [i[0] for i in sim_scores]\n",
    "movie_indices"
   ]
  },
  {
   "cell_type": "code",
   "execution_count": 16,
   "id": "0190c6bd",
   "metadata": {},
   "outputs": [
    {
     "data": {
      "text/plain": [
       "676     Ladies Summer Tie Dye Print Short Sleeve Off S...\n",
       "1129    2019 Women Ladies Fashion Plus Size Summer Tie...\n",
       "1051    2020 Women Ladies Fashion Plus Size Summer Tie...\n",
       "1288    2020 Women Ladies Fashion Plus Size Summer Tie...\n",
       "1408    Summer Women's Fashion Tie Dye Print Tassel Sl...\n",
       "1111    Women's Fashion Plus Size Casual Short Sleeve ...\n",
       "782     Women's Fashion Plus Size Casual Short Sleeve ...\n",
       "874     Women Fashion Tie Dye Printed Two Piece Sets S...\n",
       "1195    Letter Print Tie Dye Halter Sleeveless Long Dr...\n",
       "662     2020 Summer New Fashion Women's Tie-dye Gradie...\n",
       "Name: title_orig, dtype: object"
      ]
     },
     "execution_count": 16,
     "metadata": {},
     "output_type": "execute_result"
    }
   ],
   "source": [
    "# msotrando as 10 roupas mais parecidas com o exemplo inserido\n",
    "roupas['title_orig'].iloc[movie_indices]"
   ]
  },
  {
   "cell_type": "markdown",
   "id": "43614e4c",
   "metadata": {},
   "source": [
    "SIMPLIFICANDO TUDO EM UMA UNICA FUNÇÃO!!!"
   ]
  },
  {
   "cell_type": "code",
   "execution_count": 17,
   "id": "458b36f7",
   "metadata": {},
   "outputs": [],
   "source": [
    "# Função que recebe o título do filme como entrada e produz a maioria dos filmes semelhantes\n",
    "def get_recommendations(title_orig, cosine_sim=cosine_sim):\n",
    "    # Obtenha o índice do filme que corresponde ao título\n",
    "    idx = indices[title_orig]\n",
    "    \n",
    "        # Obtenha as pontuações de semelhança entre pares de todas as roupas com aquela roupa\n",
    "    sim_scores = list(enumerate(cosine_sim[idx]))\n",
    "\n",
    "    # Classifique as roupas com base nas pontuações de similaridade\n",
    "    sim_scores = sorted(sim_scores, key=lambda x: x[1], reverse=True)\n",
    "\n",
    "    # Obtenha as pontuações das 10 roupas mais semelhantes\n",
    "    sim_scores = sim_scores[1:11]\n",
    "\n",
    "    # Obtenha os índices das roupas\n",
    "    movie_indices = [i[0] for i in sim_scores]\n",
    "\n",
    "    # Retornando os 10 principais roupas mais semelhantes\n",
    "    return roupas['title_orig'].iloc[movie_indices]"
   ]
  },
  {
   "cell_type": "code",
   "execution_count": 19,
   "id": "dca49475",
   "metadata": {},
   "outputs": [
    {
     "data": {
      "text/plain": [
       "789     2020 Summer Men's Classic Shorts Multi-pocket ...\n",
       "261     Summer Men's Classic Shorts Multi-pocket Casua...\n",
       "577     Summer Men Fashion Short Pants Beach Casual Sh...\n",
       "1425    Summer Men Fashion Short Pants Beach Casual Sh...\n",
       "808     Men's Summer Outdoor Cargo Shorts Relaxed Fit ...\n",
       "365     Summer Men's Fashion Short Pants Trousers Loos...\n",
       "99      Men Cotton Overalls Camouflage Loose Shorts El...\n",
       "167     Summer Fashion Men'S Sport Athletic Shorts Pan...\n",
       "489     2020 New Men's Fashion Short Sleeve T-Shirt   ...\n",
       "1501    New Women's Summer Causal Shorts Drawstring Sh...\n",
       "Name: title_orig, dtype: object"
      ]
     },
     "execution_count": 19,
     "metadata": {},
     "output_type": "execute_result"
    }
   ],
   "source": [
    "# O resultado é...\n",
    "get_recommendations(\"Summer Women Plus Size Casual Loose V Neck Short Sleeve Floral Printed Blouse Tops\")"
   ]
  },
  {
   "cell_type": "markdown",
   "id": "9c04e8d9",
   "metadata": {},
   "source": [
    "# Classificação"
   ]
  },
  {
   "cell_type": "code",
   "execution_count": 51,
   "id": "8d9ac623",
   "metadata": {},
   "outputs": [
    {
     "name": "stdout",
     "output_type": "stream",
     "text": [
      "(1314, 20)\n",
      "(147, 20)\n"
     ]
    }
   ],
   "source": [
    "train, test = train_test_split(roupas, test_size = 0.1)# neste, nossos dados principais são divididos em treinar e testar\n",
    "# o atributo test_size = 0.1 divide os dados em uma proporção de 90% e 10%. treinar = 90% e teste = 10%\n",
    "print(train.shape)\n",
    "print(test.shape)"
   ]
  },
  {
   "cell_type": "code",
   "execution_count": 52,
   "id": "5b6ffff3",
   "metadata": {},
   "outputs": [],
   "source": [
    "train\n",
    "\n",
    "train_X = train[['price','rating_count','rating','units_sold']]# pegando os dados a srem treinados\n",
    "train_y=train.units_sold # pegando o resultado do treinamento"
   ]
  },
  {
   "cell_type": "code",
   "execution_count": 53,
   "id": "1dd0f2e9",
   "metadata": {},
   "outputs": [],
   "source": [
    "test_X= test[['price','rating_count','rating','units_sold']] # taking test data features\n",
    "test_y =test.units_sold  # pegando o resutado dos testes"
   ]
  },
  {
   "cell_type": "markdown",
   "id": "5a3d8d64",
   "metadata": {},
   "source": [
    "Regressão Logistica"
   ]
  },
  {
   "cell_type": "code",
   "execution_count": 54,
   "id": "77c1169f",
   "metadata": {},
   "outputs": [
    {
     "name": "stdout",
     "output_type": "stream",
     "text": [
      "A precisão da regressão logistica é 0.1564625850340136\n"
     ]
    },
    {
     "name": "stderr",
     "output_type": "stream",
     "text": [
      "C:\\Users\\Otavia\\anaconda3\\lib\\site-packages\\sklearn\\linear_model\\_logistic.py:763: ConvergenceWarning: lbfgs failed to converge (status=1):\n",
      "STOP: TOTAL NO. of ITERATIONS REACHED LIMIT.\n",
      "\n",
      "Increase the number of iterations (max_iter) or scale the data as shown in:\n",
      "    https://scikit-learn.org/stable/modules/preprocessing.html\n",
      "Please also refer to the documentation for alternative solver options:\n",
      "    https://scikit-learn.org/stable/modules/linear_model.html#logistic-regression\n",
      "  n_iter_i = _check_optimize_result(\n"
     ]
    }
   ],
   "source": [
    "model = LogisticRegression()\n",
    "model.fit(train_X,train_y)\n",
    "prediction=model.predict(test_X)\n",
    "print('A precisão da regressão logistica é',metrics.accuracy_score(test_y, prediction))"
   ]
  },
  {
   "cell_type": "markdown",
   "id": "94784d72",
   "metadata": {},
   "source": [
    "K-Nearest Neighbours (KNN)"
   ]
  },
  {
   "cell_type": "code",
   "execution_count": 55,
   "id": "47184bad",
   "metadata": {},
   "outputs": [
    {
     "name": "stdout",
     "output_type": "stream",
     "text": [
      "A precisão do KNN é 0.9931972789115646\n"
     ]
    }
   ],
   "source": [
    "model=KNeighborsClassifier(n_neighbors=5)\n",
    "model.fit(train_X,train_y)\n",
    "prediction=model.predict(test_X)\n",
    "print('A precisão do KNN é',metrics.accuracy_score(test_y, prediction))"
   ]
  }
 ],
 "metadata": {
  "kernelspec": {
   "display_name": "Python 3",
   "language": "python",
   "name": "python3"
  },
  "language_info": {
   "codemirror_mode": {
    "name": "ipython",
    "version": 3
   },
   "file_extension": ".py",
   "mimetype": "text/x-python",
   "name": "python",
   "nbconvert_exporter": "python",
   "pygments_lexer": "ipython3",
   "version": "3.8.8"
  }
 },
 "nbformat": 4,
 "nbformat_minor": 5
}
